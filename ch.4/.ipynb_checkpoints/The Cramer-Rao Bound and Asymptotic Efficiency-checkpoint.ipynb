{
 "cells": [
  {
   "cell_type": "markdown",
   "metadata": {},
   "source": [
    "# The Cramer-Rao Bound and Asymptotic Efficiency\n",
    "\n",
    "Here we'll see how the ML estimator is asymptotically efficient, even if it is biased. We'll do this with the exponential distribution, looping over many instances of its ML estimator, which is not biased and does not achieve the CRLB for any finite n."
   ]
  },
  {
   "cell_type": "code",
   "execution_count": 10,
   "metadata": {},
   "outputs": [
    {
     "data": {
      "image/png": "[encoded data removed]",
      "text/plain": [
       "<matplotlib.figure.Figure at 0x1f481550400>"
      ]
     },
     "metadata": {},
     "output_type": "display_data"
    },
    {
     "name": "stdout",
     "output_type": "stream",
     "text": [
      "mean: 2.22446642413\n",
      "variance: 0.579662332574\n",
      "CRB variance: 0.4\n"
     ]
    }
   ],
   "source": [
    "import numpy as np\n",
    "import matplotlib.pyplot as plt\n",
    "\n",
    "NUM_SAMPLES = 5000 #Number of samples to loop over\n",
    "rate = 2 #Set the rate of the exponential distribution\n",
    "\n",
    "n = 10\n",
    "crb_variance = rate**2/n\n",
    "rate_hat = np.zeros(NUM_SAMPLES)\n",
    "rate_hat_crb = np.zeros(NUM_SAMPLES)\n",
    "for i in range(0,NUM_SAMPLES):\n",
    "    y = np.random.exponential(1/rate,n)\n",
    "    rate_hat_crb[i] = rate + np.sqrt(crb_variance)*np.random.randn() #This is what an efficient estimator would look like\n",
    "    rate_hat[i] = 1/np.mean(y) #The ML estimate is the reciprocal of the sample mean\n",
    "    \n",
    "plt.hist(rate_hat,50)\n",
    "plt.hist(rate_hat_crb,50)\n",
    "plt.gca().legend(['ML','CRB'])\n",
    "plt.show()\n",
    "\n",
    "print('mean: '+str(np.mean(rate_hat)))\n",
    "print('variance: '+str(np.var(rate_hat)))\n",
    "print('CRB variance: '+str(crb_variance))"
   ]
  },
  {
   "cell_type": "markdown",
   "metadata": {},
   "source": [
    "It's straightforward to see that the distribution of the ML estimator is not that predicted by the CRB: It is biased, and its variance is not as predicted. Let's try a larger sample size!"
   ]
  },
  {
   "cell_type": "code",
   "execution_count": 13,
   "metadata": {},
   "outputs": [
    {
     "data": {
      "image/png": "[encoded data removed]",
      "text/plain": [
       "<matplotlib.figure.Figure at 0x1f48184b6a0>"
      ]
     },
     "metadata": {},
     "output_type": "display_data"
    },
    {
     "name": "stdout",
     "output_type": "stream",
     "text": [
      "mean: 2.10682095363\n",
      "variance: 0.243610781895\n",
      "CRB variance: 0.2\n"
     ]
    }
   ],
   "source": [
    "n = 20\n",
    "crb_variance = rate**2/n\n",
    "rate_hat = np.zeros(NUM_SAMPLES)\n",
    "rate_hat_crb = np.zeros(NUM_SAMPLES)\n",
    "for i in range(0,NUM_SAMPLES):\n",
    "    y = np.random.exponential(1/rate,n)\n",
    "    rate_hat_crb[i] = rate + np.sqrt(crb_variance)*np.random.randn() #This is what an efficient estimator would look like\n",
    "    rate_hat[i] = 1/np.mean(y) #The ML estimate is the reciprocal of the sample mean\n",
    "    \n",
    "plt.hist(rate_hat,50)\n",
    "plt.hist(rate_hat_crb,50)\n",
    "plt.gca().legend(['ML','CRB'])\n",
    "plt.show()\n",
    "\n",
    "print('mean: '+str(np.mean(rate_hat)))\n",
    "print('variance: '+str(np.var(rate_hat)))\n",
    "print('CRB variance: '+str(crb_variance))"
   ]
  },
  {
   "cell_type": "markdown",
   "metadata": {},
   "source": [
    "Sure enough, the mean is closer to 2, and the variance is closer to that predicted by the CRB. Let's go even higher!"
   ]
  },
  {
   "cell_type": "code",
   "execution_count": 14,
   "metadata": {},
   "outputs": [
    {
     "data": {
      "image/png": "[encoded data removed]",
      "text/plain": [
       "<matplotlib.figure.Figure at 0x1f4ffae59e8>"
      ]
     },
     "metadata": {},
     "output_type": "display_data"
    },
    {
     "name": "stdout",
     "output_type": "stream",
     "text": [
      "mean: 2.03633487197\n",
      "variance: 0.0889654309787\n",
      "CRB variance: 0.08\n"
     ]
    }
   ],
   "source": [
    "n = 50\n",
    "crb_variance = rate**2/n\n",
    "rate_hat = np.zeros(NUM_SAMPLES)\n",
    "rate_hat_crb = np.zeros(NUM_SAMPLES)\n",
    "for i in range(0,NUM_SAMPLES):\n",
    "    y = np.random.exponential(1/rate,n)\n",
    "    rate_hat_crb[i] = rate + np.sqrt(crb_variance)*np.random.randn() #This is what an efficient estimator would look like\n",
    "    rate_hat[i] = 1/np.mean(y) #The ML estimate is the reciprocal of the sample mean\n",
    "    \n",
    "plt.hist(rate_hat,50)\n",
    "plt.hist(rate_hat_crb,50)\n",
    "plt.gca().legend(['ML','CRB'])\n",
    "plt.show()\n",
    "\n",
    "print('mean: '+str(np.mean(rate_hat)))\n",
    "print('variance: '+str(np.var(rate_hat)))\n",
    "print('CRB variance: '+str(crb_variance))"
   ]
  },
  {
   "cell_type": "markdown",
   "metadata": {},
   "source": [
    "At this point we're doing quite well. Note that the distribution of the ML estimator is looking more and more Gaussian, a consequence of the central limit theorem. Once more, at an even higher number of samples."
   ]
  },
  {
   "cell_type": "code",
   "execution_count": 17,
   "metadata": {},
   "outputs": [
    {
     "data": {
      "image/png": "[encoded data removed]",
      "text/plain": [
       "<matplotlib.figure.Figure at 0x1f481a45dd8>"
      ]
     },
     "metadata": {},
     "output_type": "display_data"
    },
    {
     "name": "stdout",
     "output_type": "stream",
     "text": [
      "mean: 2.01289078955\n",
      "variance: 0.0405462254784\n",
      "CRB variance: 0.04\n"
     ]
    }
   ],
   "source": [
    "n = 100\n",
    "crb_variance = rate**2/n\n",
    "rate_hat = np.zeros(NUM_SAMPLES)\n",
    "rate_hat_crb = np.zeros(NUM_SAMPLES)\n",
    "for i in range(0,NUM_SAMPLES):\n",
    "    y = np.random.exponential(1/rate,n)\n",
    "    rate_hat_crb[i] = rate + np.sqrt(crb_variance)*np.random.randn() #This is what an efficient estimator would look like\n",
    "    rate_hat[i] = 1/np.mean(y) #The ML estimate is the reciprocal of the sample mean\n",
    "    \n",
    "plt.hist(rate_hat,50)\n",
    "plt.hist(rate_hat_crb,50)\n",
    "plt.gca().legend(['ML','CRB'])\n",
    "plt.show()\n",
    "\n",
    "print('mean: '+str(np.mean(rate_hat)))\n",
    "print('variance: '+str(np.var(rate_hat)))\n",
    "print('CRB variance: '+str(crb_variance))"
   ]
  },
  {
   "cell_type": "markdown",
   "metadata": {},
   "source": [
    "At this point the distributions are difficult to distinguish. Asymptotic efficiency, indeed!"
   ]
  },
  {
   "cell_type": "code",
   "execution_count": null,
   "metadata": {
    "collapsed": true
   },
   "outputs": [],
   "source": []
  }
 ],
 "metadata": {
  "kernelspec": {
   "display_name": "Python 3",
   "language": "python",
   "name": "python3"
  },
  "language_info": {
   "codemirror_mode": {
    "name": "ipython",
    "version": 3
   },
   "file_extension": ".py",
   "mimetype": "text/x-python",
   "name": "python",
   "nbconvert_exporter": "python",
   "pygments_lexer": "ipython3",
   "version": "3.6.3"
  }
 },
 "nbformat": 4,
 "nbformat_minor": 2
}
