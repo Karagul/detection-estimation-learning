{
 "cells": [
  {
   "cell_type": "markdown",
   "metadata": {},
   "source": [
    "# Bayesian Spam Detection\n",
    "\n",
    "Here, we'll take a look at spam detection using the bag-of-words model and the application of Bayesian detection."
   ]
  },
  {
   "cell_type": "markdown",
   "metadata": {},
   "source": [
    "The two hypotheses are H_0 (normal email) and H_1 (spam/phishing email).\n",
    "\n",
    "The first step is to choose a dictionary. I've chosen this fairly arbitrarily from examples I found online. In a real-world system, you would need to estimate the probabilities for each word given the two hypotheses, but here I have made them up entirely."
   ]
  },
  {
   "cell_type": "code",
   "execution_count": 4,
   "metadata": {
    "collapsed": true
   },
   "outputs": [],
   "source": [
    "import numpy as np\n",
    "import matplotlib.pyplot as plt\n",
    "\n",
    "dictionary = ['order','report','mail','colleague','language','one','report','send','money','free']\n",
    "p_0 = [10,5,15,10,5,20,20,10,5,1]\n",
    "p_0 = p_0/np.sum(p_0)\n",
    "\n",
    "p_1 = [7,5,20,15,10,15,13,20,15,10]\n",
    "p_1 = p_1/np.sum(p_1)\n",
    "\n",
    "#Note that p_0 and p_1 are NOT the likelihood functions!"
   ]
  },
  {
   "cell_type": "markdown",
   "metadata": {},
   "source": [
    "Let's generate a \"message\" according to each hypothesis. Obviously this is not going to generate a realistic-looking message owing to the limited dictionary and the bag-of-words model."
   ]
  },
  {
   "cell_type": "code",
   "execution_count": 5,
   "metadata": {
    "collapsed": false
   },
   "outputs": [
    {
     "name": "stdout",
     "output_type": "stream",
     "text": [
      "['one' 'report' 'one' 'one' 'order' 'money' 'one' 'colleague' 'report'\n",
      " 'send' 'mail' 'report' 'report' 'mail' 'order' 'report' 'order' 'one'\n",
      " 'report' 'report' 'order' 'money' 'report' 'mail' 'send' 'send' 'order'\n",
      " 'one' 'money' 'one' 'report' 'send' 'one' 'colleague' 'report' 'one'\n",
      " 'money' 'colleague' 'one' 'order' 'one' 'mail' 'one' 'report' 'colleague'\n",
      " 'mail' 'one' 'report' 'send' 'report']\n",
      "['one' 'one' 'send' 'colleague' 'send' 'colleague' 'language' 'order'\n",
      " 'order' 'report' 'colleague' 'report' 'one' 'report' 'money' 'one' 'mail'\n",
      " 'one' 'one' 'report' 'language' 'send' 'send' 'send' 'report' 'send'\n",
      " 'language' 'one' 'colleague' 'money' 'colleague' 'colleague' 'colleague'\n",
      " 'one' 'send' 'colleague' 'report' 'mail' 'one' 'report' 'language'\n",
      " 'colleague' 'report' 'report' 'order' 'send' 'free' 'send' 'one'\n",
      " 'language']\n"
     ]
    }
   ],
   "source": [
    "N = 50\n",
    "\n",
    "normal_message = np.random.choice(dictionary,size=N,p=p_0)\n",
    "spam_message = np.random.choice(dictionary,size=N,p=p_1)\n",
    "\n",
    "print(normal_message)\n",
    "print(spam_message)"
   ]
  },
  {
   "cell_type": "markdown",
   "metadata": {},
   "source": [
    "Now, let's build a Bayes classifier. To do so, we need to choose priors and cost functions, then we compute the LLR."
   ]
  },
  {
   "cell_type": "code",
   "execution_count": 36,
   "metadata": {
    "collapsed": true
   },
   "outputs": [],
   "source": [
    "pi_0 = 0.9\n",
    "pi_1 = 1-pi_0\n",
    "\n",
    "C_00 = 1\n",
    "C_11 = 1\n",
    "C_10 = 2\n",
    "C_01 = 6"
   ]
  },
  {
   "cell_type": "markdown",
   "metadata": {},
   "source": [
    "Let's sample directly from the spam bag of words model using np.multinomial."
   ]
  },
  {
   "cell_type": "code",
   "execution_count": 31,
   "metadata": {
    "collapsed": false
   },
   "outputs": [
    {
     "name": "stdout",
     "output_type": "stream",
     "text": [
      "[0 0 3 1 1 0 1 3 1 0]\n"
     ]
    }
   ],
   "source": [
    "y = np.random.multinomial(N,p_1)\n",
    "print(y)"
   ]
  },
  {
   "cell_type": "markdown",
   "metadata": {},
   "source": [
    "Now, we compute the LLR and classify."
   ]
  },
  {
   "cell_type": "code",
   "execution_count": 32,
   "metadata": {
    "collapsed": false
   },
   "outputs": [
    {
     "name": "stdout",
     "output_type": "stream",
     "text": [
      "2.18479008414\n",
      "0.587786664902\n"
     ]
    }
   ],
   "source": [
    "L = 0\n",
    "for i in range(0,len(dictionary)):\n",
    "    L += y[i]*np.log(p_1[i]/p_0[i])\n",
    "\n",
    "threshold = np.log(((C_10-C_00)*pi_0)/((C_01-C_11)*pi_1))\n",
    "print(L)\n",
    "print(threshold)"
   ]
  },
  {
   "cell_type": "markdown",
   "metadata": {},
   "source": [
    "Did we correctly detect the spam? Let's get a better sense of the detector performance by looking at the Bayes risk, averaged over many samples and for many priors."
   ]
  },
  {
   "cell_type": "code",
   "execution_count": 37,
   "metadata": {
    "collapsed": false
   },
   "outputs": [
    {
     "name": "stderr",
     "output_type": "stream",
     "text": [
      "C:\\Users\\fy4311\\AppData\\Local\\Continuum\\anaconda3\\lib\\site-packages\\ipykernel_launcher.py:10: RuntimeWarning: divide by zero encountered in log\n",
      "  # Remove the CWD from sys.path while we load stuff.\n",
      "C:\\Users\\fy4311\\AppData\\Local\\Continuum\\anaconda3\\lib\\site-packages\\ipykernel_launcher.py:10: RuntimeWarning: divide by zero encountered in double_scalars\n",
      "  # Remove the CWD from sys.path while we load stuff.\n"
     ]
    },
    {
     "data": {
      "image/png": "[encoded data removed]",
      "text/plain": [
       "<matplotlib.figure.Figure at 0x1a0d05c0c18>"
      ]
     },
     "metadata": {},
     "output_type": "display_data"
    }
   ],
   "source": [
    "NUM_SAMPLES = 5000\n",
    "N = 10\n",
    "pi_0s = np.linspace(0,1,10)\n",
    "\n",
    "R = np.zeros(pi_0s.size)\n",
    "\n",
    "for i in range(0,pi_0s.size):\n",
    "    this_pi0 = pi_0s[i]\n",
    "    this_pi1 = 1- this_pi0\n",
    "    threshold = np.log(((C_10-C_00)*this_pi0)/((C_01-C_11)*this_pi1))\n",
    "\n",
    "    for k in range(0,NUM_SAMPLES):\n",
    "        #draw a sample from H, and then from p(y|H)\n",
    "        H = np.random.choice(2,p=[this_pi0,this_pi1])\n",
    "        if(H==0):\n",
    "            y = np.random.multinomial(N,p_0)\n",
    "            L = 0\n",
    "            for j in range(0,len(dictionary)):\n",
    "                L += y[j]*np.log(p_1[j]/p_0[j])\n",
    "            if(L<threshold):\n",
    "                R[i] += C_00/NUM_SAMPLES\n",
    "            else:\n",
    "                R[i] += C_10/NUM_SAMPLES\n",
    "        else:\n",
    "            y = np.random.multinomial(N,p_1)\n",
    "            L = 0\n",
    "            for j in range(0,len(dictionary)):\n",
    "                L += y[j]*np.log(p_1[j]/p_0[j])\n",
    "            if(L<threshold):\n",
    "                R[i] += C_01/NUM_SAMPLES\n",
    "            else:\n",
    "                R[i] += C_11/NUM_SAMPLES  \n",
    "\n",
    "plt.plot(pi_0s,R)\n",
    "\n",
    "plt.xlabel(\"pi_0\")\n",
    "plt.ylabel(\"Bayes Risk R\")\n",
    "\n",
    "plt.tight_layout()\n",
    "plt.show()"
   ]
  },
  {
   "cell_type": "markdown",
   "metadata": {},
   "source": [
    "It's worth fiddling both with the costs and the number of words N per sample. How do the affect the Bayes risk? Which prior is the worst-case prior, corresponding with the minimax detector? How does changing the costs impact this prior?"
   ]
  }
 ],
 "metadata": {
  "kernelspec": {
   "display_name": "Python 3",
   "language": "python",
   "name": "python3"
  },
  "language_info": {
   "codemirror_mode": {
    "name": "ipython",
    "version": 3
   },
   "file_extension": ".py",
   "mimetype": "text/x-python",
   "name": "python",
   "nbconvert_exporter": "python",
   "pygments_lexer": "ipython3",
   "version": "3.6.0"
  }
 },
 "nbformat": 4,
 "nbformat_minor": 2
}
